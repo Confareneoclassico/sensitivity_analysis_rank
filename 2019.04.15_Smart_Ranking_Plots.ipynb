{
 "cells": [
  {
   "cell_type": "markdown",
   "metadata": {},
   "source": [
    "### Let us start our exercise by importing the relevant libraries"
   ]
  },
  {
   "cell_type": "code",
   "execution_count": null,
   "metadata": {},
   "outputs": [],
   "source": [
    "%matplotlib inline\n",
    "import numpy as np\n",
    "import pandas as pd\n",
    "import sobol_seq\n",
    "import matplotlib.pyplot as plt\n",
    "from pandas import ExcelWriter\n",
    "plt.style.use('ggplot')"
   ]
  },
  {
   "cell_type": "markdown",
   "metadata": {},
   "source": [
    "### Define the test functions"
   ]
  },
  {
   "cell_type": "code",
   "execution_count": null,
   "metadata": {},
   "outputs": [],
   "source": [
    "k = 8\n",
    "\n",
    "a2 = np.array([0,0.5,1,1.5,2,2.5,3,3.5])\n",
    "b3 = np.array([6.42,6.42,6.42,6.42,6.42,6.42])\n",
    "\n",
    "def A1(sm):\n",
    "    return pd.Series([np.prod(sm.iloc[:,:j+1],axis=1)*(-1)**(j+1) for j in range(k)]).sum()\n",
    "\n",
    "def A2(sm):\n",
    "    return pd.Series([(np.abs(4*sm[j]-2)+a2[j])/(1+a2[j]) for j in range(k)]).product()\n",
    "\n",
    "def A2b(sm,sn):\n",
    "    return pd.Series([(np.abs(4*(sm[j]+sn[j]-np.modf(sm[j]+sn[j])[1])-2)+a2[j])/(1+a2[j]) for j in range(k)]).product()\n",
    "\n",
    "functions = [A1,A2]"
   ]
  },
  {
   "cell_type": "markdown",
   "metadata": {},
   "source": [
    "### Let us produce the sample matrix"
   ]
  },
  {
   "cell_type": "code",
   "execution_count": null,
   "metadata": {},
   "outputs": [],
   "source": [
    "p = 13\n",
    "run = 50\n",
    "\n",
    "n = 2\n",
    "\n",
    "df = pd.DataFrame(sobol_seq.i4_sobol_generate(2*k, run*2**p))"
   ]
  },
  {
   "cell_type": "markdown",
   "metadata": {},
   "source": [
    "### It is finally time to assess the ranks"
   ]
  },
  {
   "cell_type": "code",
   "execution_count": null,
   "metadata": {},
   "outputs": [],
   "source": [
    "run_samples = []\n",
    "\n",
    "MAE_dic = {f.__name__:pd.DataFrame(columns=[r for r in range(run)]) for f in functions}\n",
    "\n",
    "colors_list = ['k','y','r','b','m','g','c', 'tab:brown']\n",
    "\n",
    "for r in range (1):\n",
    "    run_samples.append(df.iloc[int(r*(len(df)/run)):int((r+1)*(len(df)/run))].reset_index(drop=True))\n",
    "\n",
    "    sample_Matrices = [run_samples[-1].iloc[:,m*int(len(run_samples[-1].T)/n):\n",
    "                                            (m+1)*int(len(run_samples[-1].T)/n)].T.reset_index(drop=True).T \n",
    "                       for m in range(n)]\n",
    "    \n",
    "    mixed_Matrices = []\n",
    "    for j in range(k):\n",
    "        mixed_Matrices.append(sample_Matrices[0].copy())\n",
    "        mixed_Matrices[-1][j]=sample_Matrices[-1][j]\n",
    "        \n",
    "    elementary_effects_dic = {f.__name__:pd.DataFrame(columns=[j for j in range(k)]) for f in functions}\n",
    "    elementary_effectsFO_dic = {f.__name__:pd.DataFrame(columns=[j for j in range(k)]) for f in functions}\n",
    "    for f in functions:\n",
    "        for j in range(k):\n",
    "            elementary_effects_dic[f.__name__][j] = 0.5*(f(sample_Matrices[0])-f(mixed_Matrices[j]))**2\n",
    "            elementary_effectsFO_dic[f.__name__][j] = f(sample_Matrices[1])*(f(mixed_Matrices[j])-f(sample_Matrices[0]))\n",
    "    \n",
    "        C_T = elementary_effects_dic[f.__name__].expanding(1).mean()\n",
    "        C_S = elementary_effectsFO_dic[f.__name__].expanding(1).mean()\n",
    "        C_rT = C_T.rank(method='min',ascending=False,axis=1)\n",
    "        C_rS = C_S.rank(method='min',ascending=False,axis=1)\n",
    "        T_sR = C_rT[C_rT!=C_rT.iloc[-1]].dropna(how='all').index[-1]\n",
    "        S_sR = C_rS[C_rS!=C_rS.iloc[-1]].dropna(how='all').index[-1]\n",
    "        \n",
    "        co = -1\n",
    "        for c in C_rT:\n",
    "            co+=1\n",
    "            plt.semilogx(C_rT.index,C_rT[c],basex=2,color=colors_list[co],marker='s', markersize = 0.1)\n",
    "            plt.xticks([2**q for q in range(14)])\n",
    "            plt.xlabel('$N$')\n",
    "            plt.ylabel('T rank')\n",
    "            plt.title(f.__name__+' T rank')\n",
    "        plt.show()\n",
    "        \n",
    "        co = -1\n",
    "        for c in C_rS:\n",
    "            co+=1\n",
    "            plt.semilogx(C_rS.index,C_rS[c],basex=2,color=colors_list[co],marker='s', markersize = 0.1)\n",
    "            plt.xticks([2**q for q in range(14)])\n",
    "            plt.xlabel('$N$')\n",
    "            plt.ylabel('S rank')\n",
    "            plt.title(f.__name__+' S rank')\n",
    "        plt.show()"
   ]
  }
 ],
 "metadata": {
  "kernelspec": {
   "display_name": "Python 3",
   "language": "python",
   "name": "python3"
  },
  "language_info": {
   "codemirror_mode": {
    "name": "ipython",
    "version": 3
   },
   "file_extension": ".py",
   "mimetype": "text/x-python",
   "name": "python",
   "nbconvert_exporter": "python",
   "pygments_lexer": "ipython3",
   "version": "3.7.1"
  }
 },
 "nbformat": 4,
 "nbformat_minor": 2
}
